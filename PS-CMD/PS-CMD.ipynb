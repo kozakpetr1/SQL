{
 "cells": [
  {
   "cell_type": "markdown",
   "id": "71ccf878",
   "metadata": {},
   "source": [
    "### Změna proměnné prostředí %PATH% v CMD\n",
    "Postupuj velmi opatrně, ať nedojde ke ztrátě již zaznamenaných cest."
   ]
  },
  {
   "cell_type": "code",
   "execution_count": null,
   "id": "ccf8ca26",
   "metadata": {
    "vscode": {
     "languageId": "bat"
    }
   },
   "outputs": [],
   "source": [
    "mysql --version\n",
    "echo %PATH%\n",
    "setx PATH \"%PATH%;c:\\xampp\\mysql\\bin\""
   ]
  },
  {
   "cell_type": "markdown",
   "id": "8891304c",
   "metadata": {},
   "source": [
    "### Změna proměnné prostředí $env:path pro aktuální relaci v PS"
   ]
  },
  {
   "cell_type": "code",
   "execution_count": null,
   "id": "84c1397b",
   "metadata": {
    "vscode": {
     "languageId": "powershell"
    }
   },
   "outputs": [],
   "source": [
    "mysql --version\n",
    "$env:PATH\n",
    "setx PATH \"$env:path;c:\\xampp\\mysql\\bin\""
   ]
  },
  {
   "cell_type": "markdown",
   "id": "62e2ec60",
   "metadata": {},
   "source": [
    "### Trvalá změna proměnné prostředí $env:path v PS"
   ]
  },
  {
   "cell_type": "code",
   "execution_count": null,
   "id": "362947f8",
   "metadata": {
    "vscode": {
     "languageId": "powershell"
    }
   },
   "outputs": [],
   "source": [
    "# Získání uživatelské proměnné PATH\n",
    "$path = [Environment]::GetEnvironmentVariable(\"Path\")\n",
    "Write-Output $path\n",
    "\n",
    "# Přidání nové složky do uživatelské PATH\n",
    "$newPath = \"$path;C:\\xampp\\mysql\\bin\"\n",
    "[Environment]::SetEnvironmentVariable(\"Path\", $newPath)"
   ]
  },
  {
   "cell_type": "markdown",
   "id": "c6544387",
   "metadata": {},
   "source": [
    "### Import databáze v CMD"
   ]
  },
  {
   "cell_type": "code",
   "execution_count": null,
   "id": "d0a9492f",
   "metadata": {
    "vscode": {
     "languageId": "bat"
    }
   },
   "outputs": [],
   "source": [
    "mysql -u root -p < \"C:\\Users\\petr.kozak.SKOLAVDF\\Documents\\VSCodeProjects\\SQL\\examples\\vehicles\\create.sql\""
   ]
  },
  {
   "cell_type": "markdown",
   "id": "0705db0d",
   "metadata": {},
   "source": [
    "### Import databáze v PS"
   ]
  },
  {
   "cell_type": "code",
   "execution_count": null,
   "id": "3ac5ba3f",
   "metadata": {
    "vscode": {
     "languageId": "powershell"
    }
   },
   "outputs": [],
   "source": [
    "Get-Content \"C:\\Users\\petr.kozak.SKOLAVDF\\Documents\\VSCodeProjects\\SQL\\examples\\vehicles\\create.sql\" | mysql -u root -p"
   ]
  }
 ],
 "metadata": {
  "language_info": {
   "name": "python"
  }
 },
 "nbformat": 4,
 "nbformat_minor": 5
}
