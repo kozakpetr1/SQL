{
 "cells": [
  {
   "cell_type": "markdown",
   "metadata": {},
   "source": [
    "### SQL GRANT a REVOKE - Vysvětlení a příklady\n",
    "\n",
    "Tento notebook se zaměřuje na příkazy GRANT a REVOKE v SQL, které slouží k \n",
    "řízení přístupu uživatelů v relační databázi.\n",
    "\n",
    "### GRANT - Slouží k udělení oprávnění uživateli nebo roli\n",
    "Syntaxe:\n",
    "GRANT oprávnění ON objekt TO uživatel [WITH GRANT OPTION];\n",
    "\n",
    "- oprávnění: Specifické právo, jako SELECT, INSERT, UPDATE, DELETE atd.\n",
    "- objekt: Název tabulky, pohledu nebo jiného databázového objektu.\n",
    "- uživatel: Název uživatele nebo role, které udělujeme práva."
   ]
  },
  {
   "cell_type": "code",
   "execution_count": null,
   "metadata": {
    "vscode": {
     "languageId": "sql"
    }
   },
   "outputs": [],
   "source": [
    "GRANT SELECT, INSERT ON employees TO user1;"
   ]
  },
  {
   "cell_type": "markdown",
   "metadata": {},
   "source": [
    "### REVOKE - Slouží k odebrání oprávnění uživateli nebo roli\n",
    "Syntaxe:\n",
    "REVOKE oprávnění ON objekt FROM uživatel;\n",
    "\n",
    "- oprávnění: Právo, které odebíráme.\n",
    "- objekt: Název databázového objektu.\n",
    "- uživatel: Název uživatele nebo role, které odebíráme práva.\n"
   ]
  },
  {
   "cell_type": "code",
   "execution_count": null,
   "metadata": {
    "vscode": {
     "languageId": "sql"
    }
   },
   "outputs": [],
   "source": [
    "REVOKE SELECT, INSERT ON employees FROM user1;"
   ]
  },
  {
   "cell_type": "markdown",
   "metadata": {},
   "source": [
    "### Ukázka kroků:\n",
    "1. Vytvoření uživatele\n",
    "2. Udělení oprávnění pomocí GRANT\n",
    "3. Kontrola udělených práv\n",
    "4. Odebrání oprávnění pomocí REVOKE\n",
    "5. Kontrola udělení práv"
   ]
  },
  {
   "cell_type": "code",
   "execution_count": null,
   "metadata": {
    "vscode": {
     "languageId": "sql"
    }
   },
   "outputs": [],
   "source": [
    "CREATE USER 'user1'@'localhost' IDENTIFIED BY 'password';\n",
    "GRANT SELECT, INSERT ON test_db.employees TO 'user1'@'localhost';\n",
    "SHOW GRANTS FOR 'user1'@'localhost';\n",
    "REVOKE SELECT, INSERT ON test_db.employees FROM 'user1'@'localhost';\n",
    "SHOW GRANTS FOR 'user1'@'localhost';"
   ]
  }
 ],
 "metadata": {
  "language_info": {
   "name": "python"
  }
 },
 "nbformat": 4,
 "nbformat_minor": 2
}
