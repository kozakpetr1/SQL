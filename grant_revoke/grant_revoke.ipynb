{
 "cells": [
  {
   "cell_type": "markdown",
   "metadata": {},
   "source": [
    "### SQL GRANT a REVOKE - Vysvětlení a příklady\n",
    "\n",
    "- https://dev.mysql.com/doc/refman/8.0/en/grant.html\n",
    "\n",
    "- https://dev.mysql.com/doc/refman/8.0/en/revoke.html\n",
    "\n",
    "Tento notebook se zaměřuje na příkazy GRANT a REVOKE v SQL, které slouží k \n",
    "řízení přístupu uživatelů v relační databázi.\n",
    "\n",
    "### GRANT - Slouží k udělení oprávnění uživateli nebo roli\n",
    "Syntaxe:\n",
    "GRANT oprávnění ON objekt TO uživatel [WITH GRANT OPTION];\n",
    "\n",
    "- oprávnění: Specifické právo, jako SELECT, INSERT, UPDATE, DELETE atd.\n",
    "- objekt: Název tabulky, pohledu nebo jiného databázového objektu.\n",
    "- uživatel: Název uživatele nebo role, které udělujeme práva."
   ]
  },
  {
   "cell_type": "code",
   "execution_count": null,
   "metadata": {
    "vscode": {
     "languageId": "sql"
    }
   },
   "outputs": [],
   "source": [
    "GRANT SELECT, INSERT ON employees TO user1;"
   ]
  },
  {
   "cell_type": "markdown",
   "metadata": {},
   "source": [
    "### REVOKE - Slouží k odebrání oprávnění uživateli nebo roli\n",
    "Syntaxe:\n",
    "REVOKE oprávnění ON objekt FROM uživatel;\n",
    "\n",
    "- oprávnění: Právo, které odebíráme.\n",
    "- objekt: Název databázového objektu.\n",
    "- uživatel: Název uživatele nebo role, které odebíráme práva.\n"
   ]
  },
  {
   "cell_type": "code",
   "execution_count": null,
   "metadata": {
    "vscode": {
     "languageId": "sql"
    }
   },
   "outputs": [],
   "source": [
    "REVOKE SELECT, INSERT ON employees FROM user1;"
   ]
  },
  {
   "cell_type": "markdown",
   "metadata": {},
   "source": [
    "### Ukázka kroků:\n",
    "1. Vytvoření uživatele\n",
    "2. Udělení oprávnění pomocí GRANT\n",
    "3. Kontrola udělených práv\n",
    "4. Odebrání oprávnění pomocí REVOKE\n",
    "5. Kontrola udělených práv"
   ]
  },
  {
   "cell_type": "code",
   "execution_count": null,
   "metadata": {
    "vscode": {
     "languageId": "sql"
    }
   },
   "outputs": [],
   "source": [
    "CREATE USER 'user1'@'localhost' IDENTIFIED BY 'password';\n",
    "GRANT SELECT, INSERT ON test_db.employees TO 'user1'@'localhost';\n",
    "SHOW GRANTS FOR 'user1'@'localhost';\n",
    "REVOKE SELECT, INSERT ON test_db.employees FROM 'user1'@'localhost';\n",
    "SHOW GRANTS FOR 'user1'@'localhost';"
   ]
  },
  {
   "cell_type": "markdown",
   "metadata": {},
   "source": [
    "### Různé příklady užití SQL dotazů GRANT a REVOKE\n",
    "Základní udělení oprávnění:\n",
    "\n",
    "- Udělení oprávnění SELECT, INSERT a UPDATE pro tabulku zamestnanci uživateli jiri:"
   ]
  },
  {
   "cell_type": "code",
   "execution_count": null,
   "metadata": {
    "vscode": {
     "languageId": "sql"
    }
   },
   "outputs": [],
   "source": [
    "GRANT SELECT, INSERT, UPDATE ON zamestnanci TO jiri;"
   ]
  },
  {
   "cell_type": "markdown",
   "metadata": {},
   "source": [
    "- Udělení oprávnění SELECT pro pohled vsechny_objednavky uživateli marketa s možností toto oprávnění dále udělovat:"
   ]
  },
  {
   "cell_type": "code",
   "execution_count": null,
   "metadata": {
    "vscode": {
     "languageId": "sql"
    }
   },
   "outputs": [],
   "source": [
    "GRANT SELECT ON vsechny_objednavky TO marketa WITH GRANT OPTION;"
   ]
  },
  {
   "cell_type": "markdown",
   "metadata": {},
   "source": [
    "Oprávnění pro specifické sloupce:\n",
    "\n",
    "- Udělení oprávnění SELECT pro sloupce jmeno a prijmeni z tabulky zamestnanci uživateli petr:"
   ]
  },
  {
   "cell_type": "code",
   "execution_count": null,
   "metadata": {
    "vscode": {
     "languageId": "sql"
    }
   },
   "outputs": [],
   "source": [
    "GRANT SELECT (jmeno, prijmeni) ON zamestnanci TO petr;"
   ]
  },
  {
   "cell_type": "markdown",
   "metadata": {},
   "source": [
    "Oprávnění s podmínkami:\n",
    "\n",
    "- Udělení oprávnění INSERT do tabulky objednavky uživateli honza, ale pouze pro řádky s hodnotou produkt_id v rozsahu 1 až 100:"
   ]
  },
  {
   "cell_type": "code",
   "execution_count": null,
   "metadata": {
    "vscode": {
     "languageId": "sql"
    }
   },
   "outputs": [],
   "source": [
    "GRANT INSERT ON objednavky TO honza\n",
    "    WHERE produkt_id BETWEEN 1 AND 100;"
   ]
  },
  {
   "cell_type": "markdown",
   "metadata": {},
   "source": [
    "Odebrání oprávnění:\n",
    "\n",
    "- Odebrání oprávnění SELECT pro tabulku zakaznici uživateli hana:"
   ]
  },
  {
   "cell_type": "code",
   "execution_count": null,
   "metadata": {
    "vscode": {
     "languageId": "sql"
    }
   },
   "outputs": [],
   "source": [
    "REVOKE SELECT ON zakaznici FROM hana;"
   ]
  },
  {
   "cell_type": "markdown",
   "metadata": {},
   "source": [
    "Příklady s rolemi:\n",
    "\n",
    "- Vytvoření role spravce_objednavek s oprávněními pro tabulku objednavky:"
   ]
  },
  {
   "cell_type": "code",
   "execution_count": null,
   "metadata": {
    "vscode": {
     "languageId": "sql"
    }
   },
   "outputs": [],
   "source": [
    "CREATE ROLE spravce_objednavek;\n",
    "GRANT SELECT, INSERT, UPDATE, DELETE\n",
    "ON objednavky TO spravce_objednavek;"
   ]
  },
  {
   "cell_type": "markdown",
   "metadata": {},
   "source": [
    "- Přidělení role spravce_objednavek uživateli petra:"
   ]
  },
  {
   "cell_type": "code",
   "execution_count": null,
   "metadata": {
    "vscode": {
     "languageId": "sql"
    }
   },
   "outputs": [],
   "source": [
    "GRANT spravce_objednavek TO petra;"
   ]
  },
  {
   "cell_type": "markdown",
   "metadata": {},
   "source": [
    "Další možnosti:\n",
    "\n",
    "- Udělení oprávnění pro všechny objekty v databázi:"
   ]
  },
  {
   "cell_type": "code",
   "execution_count": null,
   "metadata": {
    "vscode": {
     "languageId": "sql"
    }
   },
   "outputs": [],
   "source": [
    "GRANT ALL ON TABLE TO tomas;"
   ]
  },
  {
   "cell_type": "markdown",
   "metadata": {},
   "source": [
    "- Udělení oprávnění pro všechny objekty typu tabulka:"
   ]
  },
  {
   "cell_type": "code",
   "execution_count": null,
   "metadata": {
    "vscode": {
     "languageId": "sql"
    }
   },
   "outputs": [],
   "source": [
    "GRANT ALL ON TABLE TO tomas;"
   ]
  },
  {
   "cell_type": "markdown",
   "metadata": {},
   "source": [
    "- Zobrazení aktuálně udělených oprávnění pro uživatele martin:"
   ]
  },
  {
   "cell_type": "code",
   "execution_count": null,
   "metadata": {
    "vscode": {
     "languageId": "sql"
    }
   },
   "outputs": [],
   "source": [
    "SHOW GRANTS FOR martin;"
   ]
  }
 ],
 "metadata": {
  "language_info": {
   "name": "python"
  }
 },
 "nbformat": 4,
 "nbformat_minor": 2
}
