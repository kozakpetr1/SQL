{
 "cells": [
  {
   "cell_type": "markdown",
   "metadata": {},
   "source": [
    "# TRIGGERY (spouštěče)\n",
    "\n",
    "**Trigger** (spouštěč) je speciální typ databázového objektu, který se automaticky spustí, když nastane určitá událost v databázi. Můžete si ho představit jako automatizovaný skript, který reaguje na specifické akce.\n",
    "\n",
    "Triggery se používají k automatizaci různých úloh v databázi, například:\n",
    "\n",
    "- **Vynucení integrity dat**: Můžete použít triggery k zajištění toho, že data v databázi splňují určitá pravidla.\n",
    "- **Auditní záznamy**: Můžete použít triggery k zaznamenávání toho, kdo a kdy provedl změny v databázi.\n",
    "- **Udržování konzistence dat**: Můžete použít triggery k automatické aktualizaci souvisejících dat v různých tabulkách.\n",
    "- **Automatizace úloh**: Můžete použít triggery k spouštění skriptů nebo procedur v reakci na události v databázi.\n",
    "\n",
    "## DML TRIGGERY\n",
    "\n",
    "Tyto triggery se aktivují v reakci na operace s daty, jako jsou INSERT, UPDATE a DELETE.\n",
    "\n",
    "**DML triggery se dělíme na**:\n",
    "\n",
    "- **AFTER** triggery: Spustí se po provedení operace s daty.\n",
    "- **BEFORE** triggery: Spustí se před provedením operace s daty.\n",
    "- **INSTEAD OF** triggery: Spustí se namísto operace s daty a operaci s daty zruší."
   ]
  },
  {
   "cell_type": "code",
   "execution_count": null,
   "metadata": {
    "vscode": {
     "languageId": "sql"
    }
   },
   "outputs": [],
   "source": [
    "CREATE TRIGGER aktualizace_ceny\n",
    "AFTER UPDATE ON produkty\n",
    "FOR EACH ROW\n",
    "BEGIN\n",
    "    UPDATE ceny\n",
    "    SET cena = cena * 1.1\n",
    "    WHERE produkt_id = OLD.produkt_id;\n",
    "END;"
   ]
  },
  {
   "cell_type": "markdown",
   "metadata": {},
   "source": [
    "## DDL Triggery\n",
    "\n",
    "Tyto triggery se aktivují v reakci na operace s definicí dat, jako jsou **CREATE**, **ALTER** a **DROP**.\n",
    "\n",
    "DDL triggery se používají k vynucení integrity dat a k provádění automatických akcí při změnách struktury databáze."
   ]
  },
  {
   "cell_type": "code",
   "execution_count": null,
   "metadata": {
    "vscode": {
     "languageId": "sql"
    }
   },
   "outputs": [],
   "source": [
    "CREATE TRIGGER log_zmeny_struktury\n",
    "ON DATABASE\n",
    "FOR ALTER_TABLE\n",
    "AS\n",
    "    BEGIN\n",
    "        INSERT INTO log_struktury (tabulka, operace, cas)\n",
    "        VALUES (OLD.name, 'ALTER', CURRENT_TIMESTAMP);\n",
    "    END;"
   ]
  },
  {
   "cell_type": "markdown",
   "metadata": {},
   "source": [
    "## Další typy triggerů\n",
    "\n",
    "**Logon** triggery: Spustí se při přihlášení uživatele k databázi.\n",
    "\n",
    "**Event** triggery: Spustí se v reakci na specifické události v databázi, jako je *deadlock* nebo full-text search.\n",
    "\n",
    "Pozn.: *Deadlock* je situace, kdy dva nebo více procesů čekají na sebe navzájem, aby mohly pokračovat. To vede k situaci, kdy žádný z procesů nemůže dokončit svůj úkol a všechny jsou zablokované. Důsledkem *DeadLocku* může být nadměrné zatížení serveru, snížení nebo znemožění přístupu uživatelů k databázi, nebo ztráta dat."
   ]
  },
  {
   "cell_type": "code",
   "execution_count": null,
   "metadata": {
    "vscode": {
     "languageId": "sql"
    }
   },
   "outputs": [],
   "source": [
    "CREATE TRIGGER logon_audit\n",
    "ON DATABASE\n",
    "FOR LOGON\n",
    "AS\n",
    "BEGIN\n",
    "    INSERT INTO auditovaci_udalosti (\n",
    "        udalost,\n",
    "        uzivatel,\n",
    "        cas,\n",
    "        ip_adresa\n",
    "    )\n",
    "    VALUES (\n",
    "        'Prihlaseni',\n",
    "        SESSION_USER,\n",
    "        CURRENT_TIMESTAMP,\n",
    "        CLIENT_IP()\n",
    "    );\n",
    "END;"
   ]
  }
 ],
 "metadata": {
  "language_info": {
   "name": "python"
  }
 },
 "nbformat": 4,
 "nbformat_minor": 2
}
