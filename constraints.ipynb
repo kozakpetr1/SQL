{
 "cells": [
  {
   "cell_type": "markdown",
   "metadata": {},
   "source": [
    "# Constraints (omezení)\n",
    "**Omezení SQL se používají k určení pravidel pro data v tabulce.**\n",
    "\n",
    "Obvykle používaná omezení v SQL:\n",
    "\n",
    "NOT NULL - Zajišťuje, že sloupec nemůže mít hodnotu NULL. \\\n",
    "UNIQUE - Zajišťuje, že všechny hodnoty ve sloupci jsou odlišné. \\\n",
    "PRIMARY KEY - Kombinace NOT NULL a UNIQUE. Jedinečně identifikuje každý řádek v tabulce. \\\n",
    "FOREIGN KEY - Zabraňuje akcím, které by zničily vazby mezi tabulkami. \\\n",
    "CHECK - Zajišťuje, že hodnoty ve sloupci splňují konkrétní podmínku. \\\n",
    "DEFAULT - Nastaví výchozí hodnotu pro sloupec, pokud není zadána žádná hodnota. \\\n",
    "CREATE INDEX - Slouží k vytvoření a načtení dat z databáze velmi rychle."
   ]
  },
  {
   "cell_type": "code",
   "execution_count": null,
   "metadata": {
    "vscode": {
     "languageId": "sql"
    }
   },
   "outputs": [],
   "source": [
    "CREATE TABLE strana.pozice (\n",
    "    id INT UNSIGNED NOT NULL AUTO_INCREMENT,\n",
    "    nazev VARCHAR(40) NOT NULL ,\n",
    "    PRIMARY KEY (id),\n",
    "    UNIQUE (nazev))\n",
    "ENGINE = InnoDB;\n",
    "\n",
    "CREATE TABLE strana.clen (\n",
    "    ID INT UNSIGNED NOT NULL AUTO_INCREMENT,\n",
    "    prijmeni VARCHAR(255) NOT NULL ,\n",
    "    jmeno VARCHAR(255),\n",
    "    vek INT,\n",
    "    pozice_id INT UNSIGNED,\n",
    "    CHECK (vek >= 18),\n",
    "    PRIMARY KEY (`id`),\n",
    "    FOREIGN KEY (pozice_id) REFERENCES strana.pozice(id))\n",
    "ENGINE = InnoDB;\n",
    "SET autocommit = 1;\n",
    "SET @clen = 'člen';\n",
    "SET @mp = 'místopředseda';\n",
    "SET @p = 'předseda';\n",
    "SET @t = 'tajemník';\n",
    "\n",
    "INSERT INTO strana.pozice (id, nazev) VALUES (NULL, @clen);\n",
    "\n",
    "SET @clen_id = LAST_INSERT_ID();\n",
    "\n",
    "INSERT INTO strana.pozice (id, nazev) VALUES (NULL, @mp);\n",
    "INSERT INTO strana.pozice (id, nazev) VALUES (NULL, @p);\n",
    "INSERT INTO strana.pozice (id, nazev) VALUES (NULL, @t);\n",
    "\n",
    "INSERT INTO strana.clen\n",
    "    (id, prijmeni, jmeno, vek, pozice_id)\n",
    "    VALUES (NULL, 'Novák', 'Jan', 24, 1);\n",
    "\n",
    "INSERT INTO strana.clen\n",
    "    (id, prijmeni, jmeno, vek, pozice_id)\n",
    "    VALUES (NULL, 'Picmaus', 'Klaudius', 30, @clen_id);\n",
    "\n",
    "INSERT INTO strana.clen (id, prijmeni, jmeno, vek, pozice_id) VALUES (NULL, 'Horák', 'Petr', 17, 2);\n"
   ]
  }
 ],
 "metadata": {
  "language_info": {
   "name": "python"
  }
 },
 "nbformat": 4,
 "nbformat_minor": 2
}
